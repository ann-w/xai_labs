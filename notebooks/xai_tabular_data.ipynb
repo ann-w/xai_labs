{
 "cells": [
  {
   "cell_type": "markdown",
   "id": "a88339ba-c3a5-4049-952f-e768cd00c1c3",
   "metadata": {
    "tags": []
   },
   "source": [
    "# AI Learning Day: Explainable Artifical Intelligence (XAI) Hands-on Lab\n",
    "\n",
    "___\n",
    "\n",
    "**Introduction**\n",
    "\n",
    "Machine learning (ML) systems are increasingly being integrated across various industries. Applications range from autonomous vehicle technology in self-driving cars to the development of sophisticated virtual assistants for improved user interactions. This widespread use of ML in complex applications has sparked a surge in the interest of developing systems that are optimized not just for performance, but also for other crucial factors like safety, non-discrimination, and reliability. However, unlike straightforward performance metrics such as accuracy, these additional criteria are often challenging to quantify. For instance, it's difficult to list all necessary safety checks for a semi-autonomous vehicle or to fully ensure a credit scoring system is free from bias. In these scenarios, the criterion of interpretability becomes key. If an ML system can explain its reasoning, we can then assess whether its logic aligns with these essential standards.\n",
    "\n",
    "This broad adoption of ML technologies underscores the importance of **Eplainable AI (XAI)**, which aims to make the complex decision-making processes of these systems transparent and understandable, ensuring their reliability and trustworthiness in critical applications. New laws and data protection rules, like the European General Data Protection Regulation (GDPR) that started in May 2018, require more transparency in how data is used, making it challenging to implement systems that don't easily show how decisions are made.\n",
    "\n",
    "\n",
    "**Goals**\n",
    "\n",
    "In this lab, we train a machine learning model on the [Diabetes dataset](https://www.kaggle.com/datasets/mathchi/diabetes-data-set) to predict whether a patient has diabetes based on diagnostic measurements and delve into explainable AI techniques. We'll explore both model-specific approaches, which are tailored to the specific type of machine learning model we're using, and model-agnostic approaches, which can be applied regardless of the model type. \n",
    "\n",
    "\n",
    "\n",
    "*Model Agnostic approaches:*\n",
    "- SHAP\n",
    "- LIME\n",
    "\n",
    "*Model specific approaches:*\n",
    "- DeepLIFT\n",
    "- Layer-Wise Relevance Propagation (LRP)\n",
    "- Integrated gradiens"
   ]
  },
  {
   "cell_type": "markdown",
   "id": "34775c72-d3ce-4a29-95f1-731575248d1e",
   "metadata": {
    "tags": []
   },
   "source": [
    "(ADD PICTURE THAT SHOWS TRADEOFF BETWEEN COMPLEXITY AND EXPLAINABILITY)\n",
    "\n",
    "(Make graph of number of stars in this paper)\n"
   ]
  },
  {
   "cell_type": "code",
   "execution_count": 27,
   "id": "a5aa8ff7",
   "metadata": {},
   "outputs": [
    {
     "name": "stdout",
     "output_type": "stream",
     "text": [
      "usage: jupyter [-h] [--version] [--config-dir] [--data-dir] [--runtime-dir]\n",
      "               [--paths] [--json] [--debug]\n",
      "               [subcommand]\n",
      "\n",
      "Jupyter: Interactive Computing\n",
      "\n",
      "positional arguments:\n",
      "  subcommand     the subcommand to launch\n",
      "\n",
      "options:\n",
      "  -h, --help     show this help message and exit\n",
      "  --version      show the versions of core jupyter packages and exit\n",
      "  --config-dir   show Jupyter config dir\n",
      "  --data-dir     show Jupyter data dir\n",
      "  --runtime-dir  show Jupyter runtime dir\n",
      "  --paths        show all Jupyter paths. Add --json for machine-readable\n",
      "                 format.\n",
      "  --json         output paths as machine-readable json\n",
      "  --debug        output debug information about paths\n",
      "\n",
      "Available subcommands: kernel kernelspec migrate run troubleshoot\n",
      "\n",
      "Jupyter command `jupyter-nbextension` not found.\n"
     ]
    }
   ],
   "source": [
    "! jupyter nbextension enable --py widgetsnbextension"
   ]
  },
  {
   "cell_type": "markdown",
   "id": "9c1b2ade-7233-4d98-b2ea-cf4f43f796d5",
   "metadata": {
    "tags": []
   },
   "source": [
    "# Part 1: Train a model"
   ]
  },
  {
   "cell_type": "markdown",
   "id": "607b616f-acbc-4336-85c5-5ed7e4ce8882",
   "metadata": {
    "tags": []
   },
   "source": [
    "## 1. Read dataset\n",
    "\n",
    "The Diabetes dataset from comprises diagnostic measurements related to diabetes in a sample of women, including glucose concentration, blood pressure, and BMI, among others. The target variable 'Outcome' 0 indicates no diabetes, and 1 signifies the presence of diabetes.The Diabetes dataset from Kaggle features diagnostic measurements for predicting diabetes, including glucose levels and BMI. The target variable, often labeled as \"Outcome,\" uses 0 to indicate no diabetes and 1 for its presence."
   ]
  },
  {
   "cell_type": "code",
   "execution_count": 3,
   "id": "eb31df36",
   "metadata": {},
   "outputs": [
    {
     "data": {
      "text/html": [
       "<div>\n",
       "<style scoped>\n",
       "    .dataframe tbody tr th:only-of-type {\n",
       "        vertical-align: middle;\n",
       "    }\n",
       "\n",
       "    .dataframe tbody tr th {\n",
       "        vertical-align: top;\n",
       "    }\n",
       "\n",
       "    .dataframe thead th {\n",
       "        text-align: right;\n",
       "    }\n",
       "</style>\n",
       "<table border=\"1\" class=\"dataframe\">\n",
       "  <thead>\n",
       "    <tr style=\"text-align: right;\">\n",
       "      <th></th>\n",
       "      <th>Pregnancies</th>\n",
       "      <th>Glucose</th>\n",
       "      <th>BloodPressure</th>\n",
       "      <th>SkinThickness</th>\n",
       "      <th>Insulin</th>\n",
       "      <th>BMI</th>\n",
       "      <th>DiabetesPedigreeFunction</th>\n",
       "      <th>Age</th>\n",
       "      <th>Outcome</th>\n",
       "    </tr>\n",
       "  </thead>\n",
       "  <tbody>\n",
       "    <tr>\n",
       "      <th>0</th>\n",
       "      <td>6</td>\n",
       "      <td>148</td>\n",
       "      <td>72</td>\n",
       "      <td>35</td>\n",
       "      <td>0</td>\n",
       "      <td>33.6</td>\n",
       "      <td>0.627</td>\n",
       "      <td>50</td>\n",
       "      <td>1</td>\n",
       "    </tr>\n",
       "    <tr>\n",
       "      <th>1</th>\n",
       "      <td>1</td>\n",
       "      <td>85</td>\n",
       "      <td>66</td>\n",
       "      <td>29</td>\n",
       "      <td>0</td>\n",
       "      <td>26.6</td>\n",
       "      <td>0.351</td>\n",
       "      <td>31</td>\n",
       "      <td>0</td>\n",
       "    </tr>\n",
       "    <tr>\n",
       "      <th>2</th>\n",
       "      <td>8</td>\n",
       "      <td>183</td>\n",
       "      <td>64</td>\n",
       "      <td>0</td>\n",
       "      <td>0</td>\n",
       "      <td>23.3</td>\n",
       "      <td>0.672</td>\n",
       "      <td>32</td>\n",
       "      <td>1</td>\n",
       "    </tr>\n",
       "    <tr>\n",
       "      <th>3</th>\n",
       "      <td>1</td>\n",
       "      <td>89</td>\n",
       "      <td>66</td>\n",
       "      <td>23</td>\n",
       "      <td>94</td>\n",
       "      <td>28.1</td>\n",
       "      <td>0.167</td>\n",
       "      <td>21</td>\n",
       "      <td>0</td>\n",
       "    </tr>\n",
       "    <tr>\n",
       "      <th>4</th>\n",
       "      <td>0</td>\n",
       "      <td>137</td>\n",
       "      <td>40</td>\n",
       "      <td>35</td>\n",
       "      <td>168</td>\n",
       "      <td>43.1</td>\n",
       "      <td>2.288</td>\n",
       "      <td>33</td>\n",
       "      <td>1</td>\n",
       "    </tr>\n",
       "  </tbody>\n",
       "</table>\n",
       "</div>"
      ],
      "text/plain": [
       "   Pregnancies  Glucose  BloodPressure  SkinThickness  Insulin   BMI  \\\n",
       "0            6      148             72             35        0  33.6   \n",
       "1            1       85             66             29        0  26.6   \n",
       "2            8      183             64              0        0  23.3   \n",
       "3            1       89             66             23       94  28.1   \n",
       "4            0      137             40             35      168  43.1   \n",
       "\n",
       "   DiabetesPedigreeFunction  Age  Outcome  \n",
       "0                     0.627   50        1  \n",
       "1                     0.351   31        0  \n",
       "2                     0.672   32        1  \n",
       "3                     0.167   21        0  \n",
       "4                     2.288   33        1  "
      ]
     },
     "metadata": {},
     "output_type": "display_data"
    },
    {
     "name": "stdout",
     "output_type": "stream",
     "text": [
      "Shape of dataframe: (768, 9)\n"
     ]
    }
   ],
   "source": [
    "import pandas as pd\n",
    "\n",
    "#TODO: FIX RELATIVE PATH\n",
    "diabetes_data = pd.read_csv('../data/diabetes.csv')\n",
    "display(diabetes_data.head())\n",
    "print(f\"Shape of dataframe: {diabetes_data.shape}\")\n"
   ]
  },
  {
   "cell_type": "markdown",
   "id": "43fa9085-fa3e-4f32-8dfb-47e225311dac",
   "metadata": {
    "tags": []
   },
   "source": [
    "## 2. Data Processing\n",
    "\n",
    "Note: choose dataset that requires minimal data preprocessing, so we can minimize data preparation from the list as that is not the focus of the lab.\n",
    "\n"
   ]
  },
  {
   "cell_type": "markdown",
   "id": "759bd3ea-8013-468b-9cd6-e17fc3cc7444",
   "metadata": {
    "tags": []
   },
   "source": [
    "### 2.1 Exploratory Data Analysis\n",
    "\n",
    "\n",
    "[ADD EXPLANATION AND INTERPRETATION ABOUT PLOTS HERE]"
   ]
  },
  {
   "cell_type": "code",
   "execution_count": 17,
   "id": "cfa094ce-e486-4590-91a8-ff41fdf22a7d",
   "metadata": {
    "tags": []
   },
   "outputs": [
    {
     "name": "stdout",
     "output_type": "stream",
     "text": [
      "Check for missing values:\n",
      "Pregnancies                 0\n",
      "Glucose                     0\n",
      "BloodPressure               0\n",
      "SkinThickness               0\n",
      "Insulin                     0\n",
      "BMI                         0\n",
      "DiabetesPedigreeFunction    0\n",
      "Age                         0\n",
      "Outcome                     0\n",
      "dtype: int64\n"
     ]
    },
    {
     "data": {
      "image/png": "[encoded data removed]",
      "text/plain": [
       "<Figure size 1000x800 with 9 Axes>"
      ]
     },
     "metadata": {},
     "output_type": "display_data"
    },
    {
     "data": {
      "image/png": "[encoded data removed]",
      "text/plain": [
       "<Figure size 1000x900 with 9 Axes>"
      ]
     },
     "metadata": {},
     "output_type": "display_data"
    }
   ],
   "source": [
    "import scripts.eda_utils as eda\n",
    "\n",
    "# TODO: ALIGN FIGURES BETTER\n",
    "\n",
    "print(f\"Check for missing values:\")\n",
    "print(diabetes_data.isnull().sum())\n",
    "\n",
    "eda.plot_histograms(diabetes_data)\n",
    "eda.plot_boxplots(diabetes_data)\n",
    "# eda.plot_correlation_heatmap(diabetes_data)"
   ]
  },
  {
   "cell_type": "code",
   "execution_count": 24,
   "id": "51983df2",
   "metadata": {},
   "outputs": [],
   "source": [
    "### ASSIGNMENT 1 ###\n",
    "\n",
    "# WHICH OF THE FEATURES ARE PROBABLY MOST CORRELATED WITH THE TARGET VARIABLE?"
   ]
  },
  {
   "cell_type": "markdown",
   "id": "b72c5f96-fa20-4de1-b036-a9ab648b8c73",
   "metadata": {},
   "source": [
    "### 2.2 Data Preprocessing"
   ]
  },
  {
   "cell_type": "markdown",
   "id": "f390fc52-e8db-4c8b-ac7b-a04600e3d49a",
   "metadata": {},
   "source": [
    "#### Preprocessing\n",
    "\n",
    "- Ensure all missing values are imputed: there are no missing values. \n",
    "- Normalize or standardize the features to have a similar scale, which is crucial for neural network training. (Although not neccesary for random forest)\n",
    "- Encode categorical variables as necessary, using techniques like One-Hot Encoding.\n",
    "- Check target distribution\n"
   ]
  },
  {
   "cell_type": "code",
   "execution_count": null,
   "id": "1a8e0bcc-908d-4715-ba48-88122f71bbaf",
   "metadata": {},
   "outputs": [],
   "source": [
    "## ONLY FOR NN\n",
    "## Todo: Create two seperate preprocessing pipelines, one for NN and one for RF.\n",
    "\n",
    "from sklearn.preprocessing import StandardScaler\n",
    "\n",
    "# Define features and target\n",
    "X = diabetes_data.drop('Outcome', axis=1)  # Assuming 'Outcome' is the target variable\n",
    "y = diabetes_data['Outcome']\n",
    "\n",
    "# Scale the features\n",
    "scaler = StandardScaler()\n",
    "X_scaled = scaler.fit_transform(X)\n"
   ]
  },
  {
   "cell_type": "markdown",
   "id": "83cf888e-ceb8-4d9a-9749-9a5867915435",
   "metadata": {
    "tags": []
   },
   "source": [
    "#### Split the dataset"
   ]
  },
  {
   "cell_type": "code",
   "execution_count": 19,
   "id": "6f36e1b3-8a5e-4887-b7fb-22cd4ca39aa3",
   "metadata": {
    "tags": []
   },
   "outputs": [],
   "source": [
    "from sklearn.model_selection import train_test_split\n",
    "\n",
    "# Drop target column from dataset\n",
    "X = diabetes_data.drop(columns=['Outcome'], axis=1)\n",
    "# Isolate target to seperate dataset\n",
    "y = diabetes_data['Outcome']\n",
    "\n",
    "# Split the data into training and test set.\n",
    "# The test size specifies that 20% of the data will be used for testing.\n",
    "X_train, X_test, y_train, y_test = train_test_split(X, y, test_size=0.2, random_state=42)\n",
    "\n"
   ]
  },
  {
   "cell_type": "markdown",
   "id": "dffb5f3c-672b-4147-8bd6-9d2e75ec2ab3",
   "metadata": {
    "tags": []
   },
   "source": [
    "## 3. Train Model"
   ]
  },
  {
   "cell_type": "markdown",
   "id": "601330df-16e9-4521-9ecf-fbf106dd4d7f",
   "metadata": {
    "tags": []
   },
   "source": [
    "In this section we train two different models. The first model is a **Random Forest** and the second is a **Feedforward Neural Network**.\n",
    "\n",
    "Tree-based models like Random Forests are inherently more explainable due to their decision-making process, which mimics human decision-making by splitting data based on feature values. In contrast, deep learning models, due to their complex network of layers and non-linear transformations, lack this intuitive explainability, making it challenging to understand how they arrive at specific predictions."
   ]
  },
  {
   "cell_type": "markdown",
   "id": "a31146b7-323e-49b5-8807-5fea8fedd8d4",
   "metadata": {},
   "source": [
    "### 3.1 Random Forest\n",
    "\n",
    "A random forest is a machine learning model that combines multiple decision trees to improve prediction accuracy, but with many trees the model becomes more complicated and it becomes difficult to trace back through the many paths to understand the rationale behind its decisions."
   ]
  },
  {
   "cell_type": "code",
   "execution_count": 20,
   "id": "ec7eef05-25f3-4e74-9735-d548dc260efc",
   "metadata": {
    "tags": []
   },
   "outputs": [
    {
     "name": "stdout",
     "output_type": "stream",
     "text": [
      "              precision    recall  f1-score   support\n",
      "\n",
      "           0       0.81      0.80      0.80       100\n",
      "           1       0.64      0.65      0.64        54\n",
      "\n",
      "    accuracy                           0.75       154\n",
      "   macro avg       0.72      0.72      0.72       154\n",
      "weighted avg       0.75      0.75      0.75       154\n",
      "\n",
      "Model Accuracy: 0.747 \n",
      "\n"
     ]
    }
   ],
   "source": [
    "from sklearn.ensemble import RandomForestClassifier\n",
    "from sklearn.metrics import classification_report\n",
    "from sklearn import metrics\n",
    "\n",
    "random_forest_classifier = RandomForestClassifier(random_state=80)\n",
    "random_forest_classifier.fit(X_train.values, y_train.values)\n",
    "\n",
    "# Make prediction on the testing data\n",
    "y_pred = random_forest_classifier.predict(X_test.values)\n",
    "\n",
    "# Get performance metrics\n",
    "print(metrics.classification_report(y_pred, y_test))\n",
    "print(f\"Model Accuracy: {metrics.accuracy_score(y_pred, y_test):.3f} \\n\")\n"
   ]
  },
  {
   "cell_type": "markdown",
   "id": "165bbc63-eed6-41db-bdc3-9eec6560d954",
   "metadata": {
    "tags": []
   },
   "source": [
    "### 3.2 Neural Network\n",
    "\n",
    "\n",
    "https://www.learnpytorch.io/02_pytorch_classification/\n",
    "https://machinelearningmastery.com/develop-your-first-neural-network-with-pytorch-step-by-step/"
   ]
  },
  {
   "cell_type": "code",
   "execution_count": 21,
   "id": "a5cdaeff-9199-48ac-9abe-453183728f17",
   "metadata": {
    "tags": []
   },
   "outputs": [],
   "source": [
    "\n",
    "import numpy as np\n",
    "import random\n",
    "import torch\n",
    "import torch.nn as nn\n",
    "import torch.nn.functional as F\n",
    "import torch.optim as optim\n",
    "from torch.utils.data import DataLoader, TensorDataset\n",
    "\n",
    "\n",
    "def set_seed(seed_value=42):\n",
    "    \"\"\"Set seed for reproducibility.\"\"\"\n",
    "    torch.manual_seed(seed_value)  # PyTorch\n",
    "    torch.cuda.manual_seed_all(seed_value)  # for multi-GPU\n",
    "    np.random.seed(seed_value)  # NumPy\n",
    "    random.seed(seed_value)  # Python\n",
    "    torch.backends.cudnn.deterministic = True  # For CUDA backend, making computations deterministic\n",
    "\n",
    "# Call the function with your desired seed\n",
    "set_seed(42)\n"
   ]
  },
  {
   "cell_type": "code",
   "execution_count": 22,
   "id": "1332bdc4-cb52-47fa-9c0e-a6d46ae893bf",
   "metadata": {
    "tags": []
   },
   "outputs": [],
   "source": [
    "class NNClassifier(nn.Module):\n",
    "    def __init__(self):\n",
    "        super(NNClassifier, self).__init__()\n",
    "        # Define the layers of the network\n",
    "        self.hidden1 = nn.Linear(8, 12)  # First hidden layer\n",
    "        self.hidden2 = nn.Linear(12, 8)  # Second hidden layer\n",
    "        self.output = nn.Linear(8, 1)    # Output layer\n",
    "\n",
    "    def forward(self, x):\n",
    "        # Forward pass through the network with activation functions applied directly\n",
    "        x = F.relu(self.hidden1(x))  # Apply ReLU activation function after first hidden layer\n",
    "        x = F.relu(self.hidden2(x))  # Apply ReLU activation function after second hidden layer\n",
    "        x = torch.sigmoid(self.output(x))  # Apply Sigmoid activation function after output layer\n",
    "        return x\n"
   ]
  },
  {
   "cell_type": "code",
   "execution_count": 23,
   "id": "7bb26df9-574c-45d6-a05f-e1a1bd7b4d67",
   "metadata": {
    "tags": []
   },
   "outputs": [
    {
     "name": "stdout",
     "output_type": "stream",
     "text": [
      "Epoch [5/200], Loss: 0.9654\n",
      "Epoch [10/200], Loss: 0.4167\n",
      "Epoch [15/200], Loss: 0.5798\n",
      "Epoch [20/200], Loss: 0.6348\n",
      "Epoch [25/200], Loss: 0.5654\n",
      "Epoch [30/200], Loss: 0.6763\n",
      "Epoch [35/200], Loss: 0.4878\n",
      "Epoch [40/200], Loss: 0.7379\n",
      "Epoch [45/200], Loss: 0.5563\n",
      "Epoch [50/200], Loss: 0.6497\n",
      "Epoch [55/200], Loss: 0.4537\n",
      "Epoch [60/200], Loss: 0.2936\n",
      "Epoch [65/200], Loss: 0.4633\n",
      "Epoch [70/200], Loss: 0.5536\n",
      "Epoch [75/200], Loss: 0.6139\n",
      "Epoch [80/200], Loss: 0.2221\n",
      "Epoch [85/200], Loss: 0.4791\n",
      "Epoch [90/200], Loss: 0.5439\n",
      "Epoch [95/200], Loss: 0.2358\n",
      "Epoch [100/200], Loss: 0.4656\n",
      "Epoch [105/200], Loss: 0.6165\n",
      "Epoch [110/200], Loss: 0.5240\n",
      "Epoch [115/200], Loss: 0.4603\n",
      "Epoch [120/200], Loss: 0.4992\n",
      "Epoch [125/200], Loss: 0.3499\n",
      "Epoch [130/200], Loss: 0.7085\n",
      "Epoch [135/200], Loss: 0.6131\n",
      "Epoch [140/200], Loss: 0.4791\n",
      "Epoch [145/200], Loss: 0.5531\n",
      "Epoch [150/200], Loss: 0.6626\n",
      "Epoch [155/200], Loss: 0.2004\n",
      "Epoch [160/200], Loss: 0.7085\n",
      "Epoch [165/200], Loss: 0.5127\n",
      "Epoch [170/200], Loss: 0.4659\n",
      "Epoch [175/200], Loss: 0.7446\n",
      "Epoch [180/200], Loss: 0.2565\n",
      "Epoch [185/200], Loss: 0.2467\n",
      "Epoch [190/200], Loss: 0.4127\n",
      "Epoch [195/200], Loss: 0.8283\n",
      "Epoch [200/200], Loss: 0.6849\n",
      "Accuracy on the test set: 74.03%\n"
     ]
    }
   ],
   "source": [
    "model = NNClassifier()\n",
    "\n",
    "# Loss function\n",
    "loss_fn = nn.BCELoss()  # binary cross entropy\n",
    "\n",
    "# Optimizer\n",
    "optimizer = optim.Adam(model.parameters(), lr=0.001)\n",
    "\n",
    "# Convert the data to PyTorch tensors\n",
    "X_train_tensor = torch.tensor(X_train.values, dtype=torch.float32)\n",
    "y_train_tensor = torch.tensor(y_train.values, dtype=torch.float32).view(-1, 1)\n",
    "X_test_tensor = torch.tensor(X_test.values, dtype=torch.float32)\n",
    "y_test_tensor = torch.tensor(y_test.values, dtype=torch.float32).view(-1, 1)\n",
    "\n",
    "# Create TensorDataset and DataLoader\n",
    "train_dataset = TensorDataset(X_train_tensor, y_train_tensor)\n",
    "train_loader = DataLoader(train_dataset, batch_size=32, shuffle=True)\n",
    "\n",
    "# Training loop\n",
    "num_epochs = 200  \n",
    "\n",
    "for epoch in range(num_epochs):\n",
    "    model.train()  \n",
    "    for inputs, targets in train_loader:\n",
    "        # Zero the gradients\n",
    "        optimizer.zero_grad()\n",
    "\n",
    "        # Forward pass\n",
    "        outputs = model(inputs)\n",
    "\n",
    "        # Calculate loss\n",
    "        loss = loss_fn(outputs, targets)\n",
    "\n",
    "        # Backward pass and optimize\n",
    "        loss.backward()\n",
    "        optimizer.step()\n",
    "\n",
    "    if (epoch + 1) % 5 == 0:\n",
    "        print(f'Epoch [{epoch+1}/{num_epochs}], Loss: {loss.item():.4f}')\n",
    "\n",
    "# Evaluation\n",
    "model.eval() \n",
    "with torch.no_grad():\n",
    "    test_dataset = TensorDataset(X_test_tensor, y_test_tensor)\n",
    "    test_loader = DataLoader(test_dataset, batch_size=64, shuffle=False)\n",
    "\n",
    "    correct = 0\n",
    "    total = 0\n",
    "    for inputs, targets in test_loader:\n",
    "        outputs = model(inputs)\n",
    "        # Convert probabilities to binary predictions\n",
    "        predicted = (outputs.data > 0.5).float()  \n",
    "        total += targets.size(0)\n",
    "        correct += (predicted == targets).sum().item()\n",
    "\n",
    "    accuracy = 100 * correct / total\n",
    "    print(f'Accuracy on the test set: {accuracy:.2f}%')\n"
   ]
  },
  {
   "cell_type": "markdown",
   "id": "c4c8b96f-0f2c-4538-981a-cb632613a3b2",
   "metadata": {
    "tags": []
   },
   "source": [
    "# Part 2: Get explanations from model"
   ]
  },
  {
   "cell_type": "markdown",
   "id": "777993f1-8c26-4dd2-8b9f-b696aa89cb43",
   "metadata": {},
   "source": [
    "## 5. Model Agnostic\n",
    "\n",
    "\n",
    "Model-agnostic methods for explaining AI can work with any type of machine learning model, unlike model-specific methods that are designed to explain only a specific type of model. LIME and SHAP are two popular libraries that help us understand how different machine learning models make their decisions. \n",
    "\n",
    "- https://www.geeksforgeeks.org/introduction-to-explainable-aixai-using-lime/\n",
    "- https://github.com/marcotcr/lime?tab=readme-ov-file"
   ]
  },
  {
   "cell_type": "markdown",
   "id": "ce8f01e1-781f-4c62-bc29-4f6dd9225edf",
   "metadata": {},
   "source": [
    "### 5.1 LIME (Local Interpretable Model-agnostic Explanations)\n",
    "LIME  is a technique that explains individual predictions of any classifier by approximating it locally with an interpretable model. It works by perturbing the input data and observing how the predictions change, helping to identify which features significantly influence the output. LIME provides simple explanations that can help users understand why a model made a particular decision for a specific instance.\n",
    "\n",
    "(INSERT IMAGE OF LIME HERE)\n",
    "\n",
    "LIME makes complex models easier to understand by focusing on one data point at a time. Think of the model as a complicated landscape with hills and valleys. LIME looks closely at the flat ground around one point (let's call it \"X\") to understand how the model decides things just there. It's like drawing a simple, straight line on the ground around \"X\" to represent the model's decision-making process nearby, without worrying about the whole landscape. This line helps us see why the model made its decision for \"X,\" using a simpler explanation that ignores the complex parts far away from \"X.\"\n",
    "\n",
    "\n",
    "\n",
    "works on all models that has .predict_proba\n",
    "\n"
   ]
  },
  {
   "cell_type": "code",
   "execution_count": null,
   "id": "e4dbe4fc-5ab0-440f-bdb4-12b3e3851847",
   "metadata": {
    "tags": []
   },
   "outputs": [],
   "source": [
    "import lime\n",
    "from lime import lime_tabular\n",
    "import numpy as np\n",
    "import warnings\n",
    "\n",
    "%matplotlib inline\n",
    "\n",
    "# Suppress FutureWarning\n",
    "warnings.filterwarnings(action='ignore', category=FutureWarning, module='lime')\n",
    "\n",
    "\n",
    "explainer = lime_tabular.LimeTabularExplainer(\n",
    "    training_data=np.array(X_train),\n",
    "    feature_names=X_train.columns,\n",
    "    class_names=['no_diabetes', 'diabetes'],\n",
    "    mode='classification',\n",
    "    random_state=80\n",
    ")"
   ]
  },
  {
   "cell_type": "code",
   "execution_count": null,
   "id": "a6c9fff4-8d43-4acc-8e17-1fd462beade1",
   "metadata": {
    "tags": []
   },
   "outputs": [],
   "source": [
    "def explain_instance_with_lime(data_row_index: int, num_features: int) -> None:\n",
    "    # Ensure explainer is previously defined and the model is trained\n",
    "    exp = explainer.explain_instance(\n",
    "        data_row=X_test.iloc[data_row_index], \n",
    "        predict_fn=random_forest_classifier.predict_proba,  # Prediction function from the trained model\n",
    "        num_features=num_features  # Number of features to consider for the explanation\n",
    "    )\n",
    "    \n",
    "    # Display the explanation in the notebook\n",
    "    exp.show_in_notebook(show_table=True)\n",
    "\n",
    "# Example usage:\n",
    "explain_instance_with_lime(data_row_index=5, num_features=5)\n"
   ]
  },
  {
   "cell_type": "markdown",
   "id": "8d3e41aa-f66c-40d1-b3ae-1392fda88131",
   "metadata": {},
   "source": [
    "Interpretation:\n",
    "- The model is 65% confident that this perrson has diabetes\n",
    "- The values of age, BMI and insulin increases this person's chance to be classified as diabetic\n",
    "- While the values of glucose and bloodpressure decreases it"
   ]
  },
  {
   "cell_type": "code",
   "execution_count": null,
   "id": "a7865dc9-fa83-484e-9302-01ba56db4089",
   "metadata": {
    "tags": []
   },
   "outputs": [],
   "source": [
    "# Inspect and analyze another instance here"
   ]
  },
  {
   "cell_type": "markdown",
   "id": "29fa60a8-61c8-427a-8a12-9d27524b837f",
   "metadata": {},
   "source": [
    "#### Advantages and disadvantages\n",
    "\n",
    "As a limitation can be seen that LIME only indirectly solves the explanation problem by relying on a surrogate model. Thus, the quality of the explanation largely depends on the quality of the surrogate fit, which itself may require dense sampling and thus may result in large computational costs.Furthermore, sampling always introduces uncertainty, which can lead to non\u0002deterministic behaviours and result in variable explanations for the same input sample."
   ]
  },
  {
   "cell_type": "markdown",
   "id": "f1c82b93-7dd6-420f-9ed0-f11ea3ee20b1",
   "metadata": {},
   "source": [
    "### 5.2 SHAP (SHapley Additive exPlanations) \n",
    "\n",
    "- https://www.datacamp.com/tutorial/introduction-to-shap-values-machine-learning-interpretability\n",
    "\n",
    "[SHAP](https://pypi.org/project/shap/) is a method that assigns each feature an importance value for a particular prediction. It is based on the concept of Shapley values from cooperative game theory, considering all possible combinations of features to determine the contribution of each feature to the prediction. SHAP values offer a consistent and fair way to distribute the \"payout\" (prediction) among the features, providing a detailed insight into how each feature impacts the model's decision.\n",
    "\n",
    "SHAP works as follows:\n",
    "\n",
    "- Baseline Prediction: Start with the baseline prediction, which is the average prediction for all data points (explain this better). This serves as the starting point for understanding feature contributions.\n",
    "\n",
    "- Feature Attribution: Add features one by one and observe how the prediction changes. It's essential to consider all possible feature orders and take their averages to ensure robustness.\n",
    "\n",
    "- SHAP Values: Calculate the SHAP value for each feature. The SHAP value represents the contribution of a feature to the prediction. It's the difference between the prediction with the feature and the prediction without the feature. Positive values indicate features that increase the prediction, while negative values indicate features that decrease it.\n",
    "\n",
    "- Sum of SHAP Values: The sum of all SHAP values should equal the difference between the prediction for a specific data point and the average prediction for all data points. This ensures that all feature contributions are properly accounted for.\n",
    "\n",
    "\n",
    "SHAP offers different kind of plots:\n",
    "\n",
    "- **Summary Plot**: Provides a global overview of feature importance and their impacts on model predictions.\n",
    "- **Dependence Plot**: Illustrates the relationship between a single feature's value and its effect on model predictions, highlighting potential feature interactions.\n",
    "- **Force Plot**: Visualizes the contribution of each feature to an individual prediction, emphasizing the push-and-pull dynamic among features.\n",
    "- **Decision Plot**: Traces the cumulative impact of features on the model's output, revealing the sequential contribution towards the final prediction."
   ]
  },
  {
   "cell_type": "code",
   "execution_count": 26,
   "id": "c1a2ee4f-9b56-4ecc-8cf4-d28a179b9dd6",
   "metadata": {
    "tags": []
   },
   "outputs": [
    {
     "name": "stderr",
     "output_type": "stream",
     "text": [
      "IProgress not found. Please update jupyter and ipywidgets. See https://ipywidgets.readthedocs.io/en/stable/user_install.html\n"
     ]
    }
   ],
   "source": [
    "import shap\n",
    "\n",
    "explainer = shap.TreeExplainer(random_forest_classifier)\n",
    "shap_values = explainer.shap_values(X_test)"
   ]
  },
  {
   "cell_type": "markdown",
   "id": "327faf94-4367-4e53-a7e9-335ecc20f263",
   "metadata": {},
   "source": [
    "The summary plot shows the feature importance of each feature in the model. The results show that “Glucose,” “Age,” and “BMI” are the most important features."
   ]
  },
  {
   "cell_type": "code",
   "execution_count": 25,
   "id": "d85e6ce6-f11e-4dfe-9275-0e47db08c71e",
   "metadata": {
    "tags": []
   },
   "outputs": [
    {
     "ename": "NameError",
     "evalue": "name 'shap' is not defined",
     "output_type": "error",
     "traceback": [
      "\u001b[0;31m---------------------------------------------------------------------------\u001b[0m",
      "\u001b[0;31mNameError\u001b[0m                                 Traceback (most recent call last)",
      "Cell \u001b[0;32mIn[25], line 1\u001b[0m\n\u001b[0;32m----> 1\u001b[0m \u001b[43mshap\u001b[49m\u001b[38;5;241m.\u001b[39msummary_plot(shap_values, X_test)\n",
      "\u001b[0;31mNameError\u001b[0m: name 'shap' is not defined"
     ]
    }
   ],
   "source": [
    "shap.summary_plot(shap_values, X_test)\n"
   ]
  },
  {
   "cell_type": "code",
   "execution_count": null,
   "id": "571bd0e6-3c02-41f2-966d-07eee675ed73",
   "metadata": {
    "tags": []
   },
   "outputs": [],
   "source": [
    "# Display summary plot of 0\n",
    "shap.summary_plot(shap_values[0], X_test)"
   ]
  },
  {
   "cell_type": "code",
   "execution_count": null,
   "id": "5a6ca07b-c41d-4cc3-a1ac-6c6d63a4fd54",
   "metadata": {
    "tags": []
   },
   "outputs": [],
   "source": [
    "# Check what goes wrong here\n",
    "shap.dependence_plot(\"Glucose\", shap_values[0], X_test,interaction_index=\"BMI\")"
   ]
  },
  {
   "cell_type": "code",
   "execution_count": null,
   "id": "195eb85d-d24e-461a-a056-3e7fd8d0ddee",
   "metadata": {
    "tags": []
   },
   "outputs": [],
   "source": [
    "shap.plots.force(explainer.expected_value[0], shap_values[0][0,:], X_test.iloc[0, :])"
   ]
  },
  {
   "cell_type": "code",
   "execution_count": null,
   "id": "39d07e94-e870-4733-bc19-4f2b9366acac",
   "metadata": {
    "tags": []
   },
   "outputs": [],
   "source": [
    "shap.plots.force(explainer.expected_value[1], shap_values[1][6, :], X_test.iloc[6, :])"
   ]
  },
  {
   "cell_type": "markdown",
   "id": "355b257b-4af0-45c7-90cd-d8910fdd89af",
   "metadata": {},
   "source": [
    "https://towardsdatascience.com/introducing-shap-decision-plots-52ed3b4a1cba"
   ]
  },
  {
   "cell_type": "code",
   "execution_count": null,
   "id": "cfc78a84-bfde-4a0c-8b4f-802ef3a20479",
   "metadata": {
    "tags": []
   },
   "outputs": [],
   "source": [
    "shap.decision_plot(explainer.expected_value[1], shap_values[1], X_test.columns)"
   ]
  },
  {
   "cell_type": "code",
   "execution_count": null,
   "id": "4b9565d1-a1f2-470e-a284-e59a2040c8cf",
   "metadata": {
    "tags": []
   },
   "outputs": [],
   "source": [
    "shap.decision_plot(explainer.expected_value[0], shap_values[0], X_test.columns)"
   ]
  },
  {
   "cell_type": "code",
   "execution_count": null,
   "id": "78bf7dfc-230e-444a-ac53-08ed49b04536",
   "metadata": {
    "tags": []
   },
   "outputs": [],
   "source": [
    "def explain_instance_with_shap(data_row_index: int) -> None:\n",
    "    shap_values = explainer.shap_values(X_test.iloc[data_row_index])\n",
    "    shap.initjs()\n",
    "    display(shap.force_plot(explainer.expected_value[1], shap_values[1], X_test.iloc[data_row_index]))\n",
    "    \n",
    "\n",
    "explain_instance_with_shap(data_row_index = 5)"
   ]
  },
  {
   "cell_type": "markdown",
   "id": "ec912046-da8d-483b-b2ad-29764b24c833",
   "metadata": {},
   "source": [
    "A force plot shows the impact of each feature on a single prediction of a machine learning model. The plot consists of three main components:\n",
    "\n",
    "- The base value, which is the average prediction for all data points.\n",
    "- The output value, which is the prediction for the specific data point. \n",
    "- The features, which are the input variables that influence the prediction. The length and color of the arrows indicate the magnitude and direction of the impact of each feature on the prediction. Red arrows increase the prediction, while blue arrows decrease it. The features are ordered by their importance."
   ]
  },
  {
   "cell_type": "markdown",
   "id": "8e917d79-539a-4ea4-a71c-1ed104c3958e",
   "metadata": {},
   "source": [
    "Interpretation:\n",
    "- The base value is 0.3452\n",
    "- The model predicted 0.65 (diabetes)\n",
    "- Biggest effect is age, then BMI, then Insulinb\n"
   ]
  },
  {
   "cell_type": "markdown",
   "id": "f9ad5d01-823c-4bcf-a3c3-063b796b8484",
   "metadata": {},
   "source": [
    "## Model-specific methods\n",
    "\n",
    "Different technics such as DeepLIFT, Grad-CAM, or Integrated Gradients can be leveraged to explain deep-learning models.\n",
    "\n",
    "\n",
    "https://towardsdatascience.com/explainable-neural-networks-recent-advancements-part-4-73cacc910fef"
   ]
  },
  {
   "cell_type": "markdown",
   "id": "03162e3e-dea3-4c24-a8f6-d806c52c6a58",
   "metadata": {
    "tags": []
   },
   "source": [
    "### 6.1 Integrated gradients\n",
    "\n",
    "https://pytorch.org/tutorials/beginner/introyt/captumyt.html\n",
    "\n",
    "\n",
    "1. **Baseline Selection**: A baseline \\(x'\\) is chosen to represent a neutral state for all features, typically a vector of zeros, mean, or median values of the features.\n",
    "\n",
    "2. **Path Interpolation**: The method constructs a path from the baseline \\(x'\\) to the actual input data point \\(x\\) through a series of small, linear steps. This is done by interpolating between \\(x'\\) and \\(x\\).\n",
    "\n",
    "3. **Gradient Calculation**: At each interpolated point along the path, the gradient of the model's output with respect to the input features is calculated. This shows how sensitive the model's prediction is to changes in each feature.\n",
    "\n",
    "4. **Integration of Gradients**: The gradients calculated at each step are integrated (typically averaged) to determine the overall contribution of each feature to the model's prediction.\n",
    "\n",
    "5. **Attribution**: The integrated gradients provide a score for each feature, indicating its importance in the model's decision-making process.\n",
    "\n",
    "The mathematical formulation for calculating the integrated gradients for a feature \\(j\\) is given by:\n",
    "\n",
    "$$\n",
    "\\text{IG}_j = \\frac{1}{n} \\sum_{i=1}^{n} \\frac{\\partial f(x_i)}{\\partial x_j} \\times (x_j - x'_j)\n",
    "$$\n",
    "\n",
    "Where:\n",
    "- $ \\text{IG}_j $ is the integrated gradient for feature $j$,\n",
    "- $ n $ is the number of steps in the path interpolation,\n",
    "- $ \\frac{\\partial f(x_i)}{\\partial x_j} $ is the gradient of the model's output with respect to feature $j$ at the $i$-th interpolated input,\n",
    "- $ x_j - x'_j $ is the difference in feature $j$ between the actual input $x$ and the baseline $x'$.\n"
   ]
  },
  {
   "cell_type": "markdown",
   "id": "eb3abd68-dcb9-4ddc-a495-7e671c371396",
   "metadata": {
    "tags": []
   },
   "source": [
    "### 6.2 DeepLIFT (Deep Learning Important FeaTures)\n",
    "\n",
    "DeepLIFT (Deep Learning Important FeaTures) is an interpretability method designed to explain the predictions of deep neural networks by attributing contribution scores to individual input features. Unlike methods that rely on gradients, DeepLIFT compares the activation of each neuron to a reference activation and assigns contribution scores based on the difference, effectively capturing the effect of each input feature on the final prediction. This approach allows DeepLIFT to handle both linear and non-linear interactions within the network, providing a more detailed and nuanced understanding of how input features influence the model's output, especially in complex models where gradients may not provide sufficient insight into the decision-making process.\n"
   ]
  },
  {
   "cell_type": "markdown",
   "id": "0943645f-22d3-4a14-96c6-c0543e7e59ba",
   "metadata": {},
   "source": [
    "### 6.3 Layer-wise Relevance Propagation\n",
    "\n",
    "Layer-Wise Relevance Propagation (LRP) is a technique used to explain the predictions of deep neural networks by backpropagating the prediction output back to the input layer, assigning relevance scores to individual input features that quantify their contribution to the final decision. LRP operates by conserving the relevance scores across layers, ensuring that the total relevance in the output layer is distributed back through the network down to the input features, adhering to the conservation principle. This method allows for a detailed decomposition of the model's decision, highlighting which features and their interactions were most influential, making it particularly useful for understanding complex models and their decisions on a granular level."
   ]
  },
  {
   "cell_type": "markdown",
   "id": "2dc5a0c2-32e5-439e-a467-f4c6c05c2e5c",
   "metadata": {},
   "source": [
    "### 6.4 Activation Maximization -> MOVE TO CNN PART"
   ]
  },
  {
   "cell_type": "markdown",
   "id": "2b84996f-0e9d-4f10-880e-c832b71c514f",
   "metadata": {},
   "source": [
    "Start with simpler models and then how it is appliclable in more complicated networks:\n",
    "- Computer vision saliency maps\n",
    "- LLM with attention \n",
    "\n"
   ]
  },
  {
   "cell_type": "markdown",
   "id": "24c34fac-e2cf-4f8a-8ca5-dadff1333037",
   "metadata": {},
   "source": [
    "**Additional Resources:**\n",
    "- [Explainable AI Methods - A Brief Overview](https://link.springer.com/content/pdf/10.1007/978-3-031-04083-2_2.pdf)\n",
    "\n"
   ]
  },
  {
   "cell_type": "code",
   "execution_count": null,
   "id": "779979af-36c7-4baf-bb44-dcacbd9bc048",
   "metadata": {},
   "outputs": [],
   "source": []
  }
 ],
 "metadata": {
  "kernelspec": {
   "display_name": "fairlearn",
   "language": "python",
   "name": "fairlearn"
  },
  "language_info": {
   "codemirror_mode": {
    "name": "ipython",
    "version": 3
   },
   "file_extension": ".py",
   "mimetype": "text/x-python",
   "name": "python",
   "nbconvert_exporter": "python",
   "pygments_lexer": "ipython3",
   "version": "3.10.13"
  }
 },
 "nbformat": 4,
 "nbformat_minor": 5
}
